{
 "cells": [
  {
   "cell_type": "code",
   "execution_count": null,
   "id": "fc64f86f",
   "metadata": {},
   "outputs": [],
   "source": [
    "import pandas as pd"
   ]
  },
  {
   "cell_type": "code",
   "execution_count": null,
   "id": "ba7c0a4f",
   "metadata": {},
   "outputs": [],
   "source": [
    "pd.set_option('display.max_rows', None)\n",
    "pd.set_option('display.max_columns', None)"
   ]
  },
  {
   "cell_type": "code",
   "execution_count": null,
   "id": "156d5110",
   "metadata": {
    "scrolled": true
   },
   "outputs": [],
   "source": [
    "\"\"\"\n",
    "Separate figures for 1.2V and 12V, each with INA2180Ax and INA296Ax\n",
    "\"\"\"\n",
    "\n",
    "import matplotlib.pyplot as plt\n",
    "import matplotlib.ticker as mtick\n",
    "import numpy as np\n",
    "import pandas as pd\n",
    "\n",
    "for name, devices in zip([\"1v2\", \"12v\"], [[\"INA2180A3\", \"INA296A4\"], [\"INA2180A4\", \"INA296A5\"]]):\n",
    "    df = pd.read_excel(f\"Error_Analysis_{name}.xlsm\", sheet_name=1, usecols=\"P:BA\", skiprows=range(9))\n",
    "    df = df.iloc[:-4]\n",
    "    fig, ax = plt.subplots(figsize=(8,4))\n",
    "    for suffix, amplifier, color, linestyle in zip([\"\", \".2\"], devices, [\"tab:blue\", \"tab:orange\"], [\"solid\", \"dotted\"]):\n",
    "        ax.plot(df[\"ISHUNT\"], df[\"Error\" + suffix], c=color, linestyle=linestyle, label=amplifier, linewidth=4)\n",
    "\n",
    "    ax.set_ylim(0, 0.6)\n",
    "    ax.set_xlim(0, 8)\n",
    "    ax.set_xticks(np.arange(ax.get_xlim()[0], ax.get_xlim()[1], 1))\n",
    "    ax.set_xticks(np.arange(ax.get_xlim()[0], ax.get_xlim()[1], 0.5), minor=True)\n",
    "\n",
    "    ax.yaxis.set_major_formatter(mtick.PercentFormatter(1.0))\n",
    "    ax.legend()\n",
    "    ax.set_ylabel(\"Error\")\n",
    "    ax.set_xlabel(\"Input Current [A]\")\n",
    "    ax.grid(which=\"minor\", alpha=.2)\n",
    "    ax.grid(which=\"major\", alpha=.9)\n",
    "    ax.set_title(f\"Error Margin for {name}\")\n",
    "    fig.show()"
   ]
  },
  {
   "cell_type": "code",
   "execution_count": null,
   "id": "869aded4",
   "metadata": {},
   "outputs": [],
   "source": [
    "import matplotlib as m\n",
    "m.rcParams.update({\"font.size\": 24, \"legend.fontsize\": 20, 'pdf.fonttype': 42, 'ps.fonttype': 42})\n"
   ]
  },
  {
   "cell_type": "code",
   "execution_count": null,
   "id": "f906e4e1",
   "metadata": {},
   "outputs": [],
   "source": [
    "\"\"\"\n",
    "Combined for 1.2V and 12V with INA2180Ax and INA296Ax\n",
    "\"\"\"\n",
    "\n",
    "import matplotlib.pyplot as plt\n",
    "import matplotlib.ticker as mtick\n",
    "import numpy as np\n",
    "import pandas as pd\n",
    "fig, ax = plt.subplots(figsize=(12,6))\n",
    "for name, devices, color in zip([\"1V2\", \"12V\"], [[\"INA2180A3 (G=100)\", \"INA296A4 (G=100)\"], [\"INA2180A4 (G=200)\", \"INA296A5 (G=200)\"]], [\"tab:blue\", \"tab:orange\"]):\n",
    "    df = pd.read_excel(f\"Error_Analysis_{name}.xlsm\", sheet_name=1, usecols=\"P:BA\", skiprows=range(9))\n",
    "    df = df.iloc[:-4]\n",
    "    displayname = \"1.2V\" if name == \"1V2\" else name\n",
    "    for suffix, amplifier, linestyle in zip([\"\", \".2\"], devices, [\"solid\", \"dotted\"]):\n",
    "        ax.plot(df[\"ISHUNT\"], df[\"Error\" + suffix], c=color, linestyle=linestyle, label=f\"{displayname}: {amplifier}\", linewidth=4)\n",
    "\n",
    "ax.set_ylim(0, 0.6)\n",
    "ax.set_xlim(0, 8)\n",
    "ax.set_xticks(np.arange(ax.get_xlim()[0], ax.get_xlim()[1], 1))\n",
    "ax.set_xticks(np.arange(ax.get_xlim()[0], ax.get_xlim()[1], 0.5), minor=True)\n",
    "\n",
    "ax.set_yticks(np.arange(ax.get_ylim()[0], ax.get_ylim()[1], 0.1))\n",
    "ax.set_yticks(np.arange(ax.get_ylim()[0], ax.get_ylim()[1], 0.05), minor=True)\n",
    "\n",
    "ax.yaxis.set_major_formatter(mtick.PercentFormatter(1.0))\n",
    "ax.legend(ncol=2)\n",
    "ax.set_ylabel(\"RSS Error\")\n",
    "ax.set_xlabel(\"Sensed Current [A]\")\n",
    "ax.grid(which=\"minor\", alpha=.2)\n",
    "ax.grid(which=\"major\", alpha=.9)\n",
    "fig.show()\n",
    "fig.savefig(\"error_margin_analysis.pdf\", bbox_inches=\"tight\")"
   ]
  },
  {
   "cell_type": "code",
   "execution_count": null,
   "id": "2e11645c",
   "metadata": {},
   "outputs": [],
   "source": [
    "\"\"\"\n",
    "Combined figure for 1.2V and 12V with INA2180Ax (used for the main measurements)\n",
    "\"\"\"\n",
    "\n",
    "import matplotlib.pyplot as plt\n",
    "import matplotlib.ticker as mtick\n",
    "import numpy as np\n",
    "import pandas as pd\n",
    "fig, ax = plt.subplots(figsize=(12,4))\n",
    "for name, devices, color in zip([\"1V2\", \"12V\"], [[\"INA2180A3 (G=100)\"], [\"INA2180A4 (G=200)\"]], [\"tab:blue\", \"tab:orange\"]):\n",
    "    df = pd.read_excel(f\"Error_Analysis_{name}.xlsm\", sheet_name=1, usecols=\"P:BA\", skiprows=range(9))\n",
    "    df = df.iloc[:-4]\n",
    "    displayname = \"1.2V\" if name == \"1V2\" else name\n",
    "    for suffix, amplifier, linestyle in zip([\"\", \".2\"], devices, [\"solid\", \"dotted\"]):\n",
    "        ax.plot(df[\"ISHUNT\"], df[\"Error\" + suffix], c=color, linestyle=linestyle, label=f\"{displayname}: {amplifier}\", linewidth=4)\n",
    "\n",
    "ax.set_ylim(0, 0.6)\n",
    "ax.set_xlim(0, 8)\n",
    "ax.set_xticks(np.arange(ax.get_xlim()[0], ax.get_xlim()[1], 1))\n",
    "ax.set_xticks(np.arange(ax.get_xlim()[0], ax.get_xlim()[1], 0.5), minor=True)\n",
    "\n",
    "ax.set_yticks(np.arange(ax.get_ylim()[0], ax.get_ylim()[1], 0.1))\n",
    "ax.set_yticks(np.arange(ax.get_ylim()[0], ax.get_ylim()[1], 0.05), minor=True)\n",
    "\n",
    "ax.yaxis.set_major_formatter(mtick.PercentFormatter(1.0))\n",
    "ax.legend(ncol=1)\n",
    "ax.set_ylabel(\"RSS Error\", labelpad=15)\n",
    "ax.set_xlabel(\"Sensed Current [A]\", labelpad=15)\n",
    "ax.grid(which=\"minor\", alpha=.2)\n",
    "ax.grid(which=\"major\", alpha=.9)\n",
    "fig.show()\n",
    "fig.savefig(\"error_margin_analysis.pdf\", bbox_inches=\"tight\")"
   ]
  },
  {
   "cell_type": "code",
   "execution_count": null,
   "id": "d4a940a5",
   "metadata": {},
   "outputs": [],
   "source": []
  },
  {
   "cell_type": "code",
   "execution_count": null,
   "id": "2b4bf849",
   "metadata": {},
   "outputs": [],
   "source": []
  }
 ],
 "metadata": {
  "kernelspec": {
   "display_name": "Python 3 (ipykernel)",
   "language": "python",
   "name": "python3"
  },
  "language_info": {
   "codemirror_mode": {
    "name": "ipython",
    "version": 3
   },
   "file_extension": ".py",
   "mimetype": "text/x-python",
   "name": "python",
   "nbconvert_exporter": "python",
   "pygments_lexer": "ipython3",
   "version": "3.9.12"
  }
 },
 "nbformat": 4,
 "nbformat_minor": 5
}
